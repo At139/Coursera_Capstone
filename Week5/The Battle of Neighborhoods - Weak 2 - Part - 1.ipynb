{
 "cells": [
  {
   "cell_type": "markdown",
   "metadata": {},
   "source": [
    "## Introduction & Business Problem :\n",
    "\n",
    "## Problem Background:\n",
    "\n",
    "The restaurant industry in London is growing exponentially, every street is filled with every variety of restaurant, fast food place and pub; every type of food is available from classic European cuisines, primarily Italian, Spanish and French, to more exotic foods originating from Asia or South America. Demand, in the culinary industry, has become extremely high and as a result so has extent of competition to open a restaurant or cafeteria in a supposedly ‘cool’ area of the city.\n",
    "\n",
    "So it become harder to choose location of new restaurn today espashily in big city like London\n",
    "\n",
    "## Problem\n",
    "\n",
    "Pizza industry has grown up a lot in the last few years because the love of this dish along different people,\n",
    "so this industry is not only about food but also about the place of restauran because if you failed at your first branch \n",
    "you probably not going to success in the industry\n",
    "\n",
    "So, the main purpose of the problem is to suggest a borough for a customer who want to open a pizza restaurant in london\n",
    "\n",
    "## Success Criteria:\n",
    "\n",
    "The success criteria of the project will be a good recommendation of borough/Neighborhood choice to The customer Ltd based on Lack of such restaurants in that location"
   ]
  },
  {
   "cell_type": "markdown",
   "metadata": {},
   "source": [
    "## Data:\n",
    "\n",
    "City will be analysed for the project is: Londaon\n",
    "\n",
    "We will be using the below datasets for analysing London:\n",
    "\n",
    "### Data 1:\n",
    "\n",
    "Neighborhood has a total of 32 boroughs. In order to segement the boroughs and explore them, we will essentially need a dataset that contains the 32 boroughs and the latitude and logitude coordinates of each borough.\n",
    "\n",
    "This dataset exists for free on the web. Link to the dataset is : https://en.wikipedia.org/wiki/List_of_London_boroughs\n",
    "\n",
    "### Data 2:\n",
    "\n",
    "London geographical coordinates data will be utilized as input for the Foursquare API, that will be leveraged to provision venues information for each borough. We will use the Foursquare API to explore pizza restaurants in London."
   ]
  },
  {
   "cell_type": "markdown",
   "metadata": {},
   "source": [
    "## Import Libraries"
   ]
  },
  {
   "cell_type": "code",
   "execution_count": 1,
   "metadata": {},
   "outputs": [
    {
     "ename": "ModuleNotFoundError",
     "evalue": "No module named 'geopy'",
     "output_type": "error",
     "traceback": [
      "\u001b[1;31m---------------------------------------------------------------------------\u001b[0m",
      "\u001b[1;31mModuleNotFoundError\u001b[0m                       Traceback (most recent call last)",
      "\u001b[1;32m<ipython-input-1-dbef0ad0c9bc>\u001b[0m in \u001b[0;36m<module>\u001b[1;34m\u001b[0m\n\u001b[0;32m      7\u001b[0m \u001b[1;32mimport\u001b[0m \u001b[0mrequests\u001b[0m \u001b[1;31m# library to handle requests\u001b[0m\u001b[1;33m\u001b[0m\u001b[1;33m\u001b[0m\u001b[0m\n\u001b[0;32m      8\u001b[0m \u001b[1;32mfrom\u001b[0m \u001b[0mpandas\u001b[0m\u001b[1;33m.\u001b[0m\u001b[0mio\u001b[0m\u001b[1;33m.\u001b[0m\u001b[0mjson\u001b[0m \u001b[1;32mimport\u001b[0m \u001b[0mjson_normalize\u001b[0m \u001b[1;31m# tranform JSON file into a pandas dataframe\u001b[0m\u001b[1;33m\u001b[0m\u001b[1;33m\u001b[0m\u001b[0m\n\u001b[1;32m----> 9\u001b[1;33m \u001b[1;32mfrom\u001b[0m \u001b[0mgeopy\u001b[0m\u001b[1;33m.\u001b[0m\u001b[0mgeocoders\u001b[0m \u001b[1;32mimport\u001b[0m \u001b[0mNominatim\u001b[0m \u001b[1;31m# convert an address into latitude and longitude values\u001b[0m\u001b[1;33m\u001b[0m\u001b[1;33m\u001b[0m\u001b[0m\n\u001b[0m\u001b[0;32m     10\u001b[0m \u001b[1;32mimport\u001b[0m \u001b[0mfolium\u001b[0m \u001b[1;31m# map rendering library\u001b[0m\u001b[1;33m\u001b[0m\u001b[1;33m\u001b[0m\u001b[0m\n\u001b[0;32m     11\u001b[0m \u001b[1;32mimport\u001b[0m \u001b[0mfolium\u001b[0m \u001b[1;31m# map rendering library\u001b[0m\u001b[1;33m\u001b[0m\u001b[1;33m\u001b[0m\u001b[0m\n",
      "\u001b[1;31mModuleNotFoundError\u001b[0m: No module named 'geopy'"
     ]
    }
   ],
   "source": [
    "import numpy as np # library to handle data in a vectorized manner\n",
    "import time\n",
    "import pandas as pd # library for data analsysis\n",
    "pd.set_option('display.max_columns', None)\n",
    "pd.set_option('display.max_rows', None)\n",
    "import json # library to handle JSON files\n",
    "import requests # library to handle requests\n",
    "from pandas.io.json import json_normalize # tranform JSON file into a pandas dataframe\n",
    "from geopy.geocoders import Nominatim # convert an address into latitude and longitude values\n",
    "import folium # map rendering library\n",
    "import folium # map rendering library\n",
    "from folium import plugins\n",
    "# Matplotlib and associated plotting modules\n",
    "import matplotlib as mpl\n",
    "import matplotlib.pyplot as plt\n",
    "import matplotlib.cm as cm\n",
    "import matplotlib.colors as colors\n",
    "import seaborn as sns\n",
    "# import k-means from clustering stage\n",
    "from sklearn.cluster import KMeans\n",
    "print('Libraries imported.')"
   ]
  },
  {
   "cell_type": "markdown",
   "metadata": {},
   "source": [
    "## Load Data from Wikipidia"
   ]
  },
  {
   "cell_type": "code",
   "execution_count": null,
   "metadata": {},
   "outputs": [],
   "source": [
    "df = pd.read_html('https://en.wikipedia.org/wiki/List_of_London_boroughs')[0]\n",
    "df.head()"
   ]
  },
  {
   "cell_type": "markdown",
   "metadata": {},
   "source": [
    "## Clean Data and remove unwanted columns"
   ]
  },
  {
   "cell_type": "code",
   "execution_count": null,
   "metadata": {},
   "outputs": [],
   "source": [
    "# remove unwanted columns\n",
    "df.drop(['Inner', 'Status', 'Local authority', 'Political control', 'Headquarters', 'Area (sq mi)', 'Nr. in map'], axis=1, inplace=True)\n",
    "df.head(2)"
   ]
  },
  {
   "cell_type": "code",
   "execution_count": null,
   "metadata": {},
   "outputs": [],
   "source": [
    "# rename population column\n",
    "df.rename(columns={\"Population (2013 est)[1]\" : \"Population\"}, inplace=True)"
   ]
  },
  {
   "cell_type": "code",
   "execution_count": null,
   "metadata": {},
   "outputs": [],
   "source": [
    "# split coordinates in latitude and longitude\n",
    "df[['First','Last']] = df['Co-ordinates'].str.split(\"/\",expand=True,)\n",
    "df.head()"
   ]
  },
  {
   "cell_type": "code",
   "execution_count": null,
   "metadata": {},
   "outputs": [],
   "source": [
    "# drop unwanted columns\n",
    "df.drop(['Co-ordinates','First'],axis=1,inplace=True)\n",
    "df.head()"
   ]
  },
  {
   "cell_type": "code",
   "execution_count": null,
   "metadata": {
    "scrolled": false
   },
   "outputs": [],
   "source": [
    "# split coordinates into latitude and longitude\n",
    "df[['Latitude','Longitude']] = df['Last'].str.split(\"N\",expand=True,)  \n",
    "df['Latitude'] = df['Latitude'].str[:-1]\n",
    "df['Longitude'] = df['Longitude'].str[:-2]\n",
    "df.head()"
   ]
  },
  {
   "cell_type": "code",
   "execution_count": null,
   "metadata": {},
   "outputs": [],
   "source": [
    "# remove unwanted column\n",
    "df.drop([\"Last\"], axis=1, inplace=True)\n",
    "df.head()"
   ]
  },
  {
   "cell_type": "code",
   "execution_count": null,
   "metadata": {},
   "outputs": [],
   "source": [
    "# handle borough names with [note ..]\n",
    "df['Borough'] = df['Borough'].replace('Barking and Dagenham [note 1]', 'Barking and Dagenham')\n",
    "df['Borough'] = df['Borough'].replace('Greenwich [note 2]', 'Greenwich')\n",
    "df['Borough'] = df['Borough'].replace('Hammersmith and Fulham [note 4]', 'Hammersmith and Fulham')\n",
    "df.head()"
   ]
  },
  {
   "cell_type": "code",
   "execution_count": null,
   "metadata": {},
   "outputs": [],
   "source": [
    "# check data types of df\n",
    "df.dtypes"
   ]
  },
  {
   "cell_type": "code",
   "execution_count": null,
   "metadata": {
    "scrolled": true
   },
   "outputs": [],
   "source": [
    "# check if there are any character in the latitude\n",
    "for lat in range(len(df['Latitude'])):\n",
    "    df.loc[lat, 'Latitude'] = ''.join(ch for ch in df.loc[lat, 'Latitude'] if ch.isdigit() or ch == '.')\n",
    "\n",
    "# change data types of latitude and longitude to float\n",
    "df = df.astype({'Latitude': 'float','Longitude':'float'})\n",
    "df.dtypes"
   ]
  },
  {
   "cell_type": "markdown",
   "metadata": {},
   "source": [
    "## Show the final Dataframe"
   ]
  },
  {
   "cell_type": "code",
   "execution_count": null,
   "metadata": {
    "scrolled": true
   },
   "outputs": [],
   "source": [
    "df"
   ]
  },
  {
   "cell_type": "markdown",
   "metadata": {},
   "source": [
    "   ## Use geopy to get coordinates of London"
   ]
  },
  {
   "cell_type": "code",
   "execution_count": null,
   "metadata": {},
   "outputs": [],
   "source": [
    "address = 'London'\n",
    "\n",
    "geolocator = Nominatim(user_agent=\"london_explorer\")\n",
    "location = geolocator.geocode(address)\n",
    "latitude = location.latitude\n",
    "longitude = location.longitude\n",
    "print('The geograpical coordinate of London are {}, {}.'.format(latitude, longitude))"
   ]
  },
  {
   "cell_type": "markdown",
   "metadata": {},
   "source": [
    "## Create a map of London with Populataion superimposed on top"
   ]
  },
  {
   "cell_type": "code",
   "execution_count": null,
   "metadata": {},
   "outputs": [],
   "source": [
    "# create map object using coordinates of london\n",
    "map_london = folium.Map(location=[latitude, longitude], zoom_start=9)\n",
    "\n",
    "# add markers to map\n",
    "for lat, lng, borough, population in zip(df['Latitude'], df['Longitude'], df['Borough'], df['Population']):\n",
    "    label = '{}, {}'.format(population, borough)\n",
    "    label = folium.Popup(label, parse_html=True)\n",
    "    folium.CircleMarker(\n",
    "        [lat, lng],\n",
    "        radius=5,\n",
    "        popup=label,\n",
    "        color='blue',\n",
    "        fill=True,\n",
    "        fill_color='#3186cc',\n",
    "        fill_opacity=0.7,\n",
    "        parse_html=False).add_to(map_london)\n",
    "    \n",
    "map_london"
   ]
  },
  {
   "cell_type": "markdown",
   "metadata": {},
   "source": [
    "## Define Foursquare Credentials and Version"
   ]
  },
  {
   "cell_type": "code",
   "execution_count": null,
   "metadata": {},
   "outputs": [],
   "source": [
    "CLIENT_ID = 'SECRET' # your Foursquare ID\n",
    "CLIENT_SECRET = 'SECRET' # your Foursquare Secret\n",
    "VERSION = '20200717' # Foursquare API version\n",
    "\n",
    "print('Your credentails:')\n",
    "print('CLIENT_ID: ' + CLIENT_ID)\n",
    "print('CLIENT_SECRET:' + CLIENT_SECRET)"
   ]
  },
  {
   "cell_type": "markdown",
   "metadata": {},
   "source": [
    "## Define function to get Pizza restaurants in location with radius 2000 meters"
   ]
  },
  {
   "cell_type": "code",
   "execution_count": null,
   "metadata": {},
   "outputs": [],
   "source": [
    "def get_pizza(dataframe):\n",
    "    latitudes = dataframe['Latitude']\n",
    "    longitudes = dataframe['Longitude']\n",
    "    boroughs = dataframe['Borough']\n",
    "    populations = dataframe['Population']\n",
    "    query = 'Pizza'\n",
    "    radius = 2000\n",
    "    \n",
    "    venues_list = []\n",
    "    \n",
    "    for lat, lng, borough, population in zip(latitudes, longitudes, boroughs, populations):\n",
    "        url = 'https://api.foursquare.com/v2/venues/search?client_id={}&client_secret={}&ll={},{}&v={}&radius={}&query={}'.format(\n",
    "        CLIENT_ID, CLIENT_SECRET, lat, lng, VERSION, radius, query)\n",
    "        \n",
    "        results = requests.get(url).json()\n",
    "        print(results)\n",
    "        pizzas = results['response']['venues']\n",
    "        \n",
    "        # return only relevant information for each nearby venue\n",
    "        if len(pizzas) != 0:\n",
    "            venues_list.append([(\n",
    "                borough, \n",
    "                population,\n",
    "                lat, \n",
    "                lng, \n",
    "                v['name'], \n",
    "                v['location']['lat'], \n",
    "                v['location']['lng']) for v in pizzas])\n",
    "\n",
    "    nearby_venues = pd.DataFrame([item for venue_list in venues_list for item in venue_list])\n",
    "    nearby_venues.columns = ['Borough',\n",
    "                    'Borough Population',\n",
    "                  'Borough Latitude', \n",
    "                  'Borough Longitude', \n",
    "                  'Venue', \n",
    "                  'Venue Latitude', \n",
    "                  'Venue Longitude']\n",
    "    \n",
    "    return(nearby_venues)"
   ]
  },
  {
   "cell_type": "code",
   "execution_count": null,
   "metadata": {},
   "outputs": [],
   "source": [
    "df2 = get_pizza(df)"
   ]
  },
  {
   "cell_type": "markdown",
   "metadata": {},
   "source": [
    "## Let's check the size of the resulting dataframe"
   ]
  },
  {
   "cell_type": "code",
   "execution_count": null,
   "metadata": {},
   "outputs": [],
   "source": [
    "print(df2.shape)\n",
    "df2.head()"
   ]
  },
  {
   "cell_type": "markdown",
   "metadata": {},
   "source": [
    "### Check Number of pizza restaurants for each Borough"
   ]
  },
  {
   "cell_type": "code",
   "execution_count": null,
   "metadata": {},
   "outputs": [],
   "source": [
    "df2.groupby('Borough').count()"
   ]
  },
  {
   "cell_type": "markdown",
   "metadata": {},
   "source": [
    "## Make new Dataframe contain info about pizza res in Boroughs"
   ]
  },
  {
   "cell_type": "code",
   "execution_count": null,
   "metadata": {},
   "outputs": [],
   "source": [
    "# get number of res in each borough\n",
    "df_pizza = df2.groupby('Borough').count()\n",
    "# drop unwanted columns\n",
    "df_pizza = df_pizza.drop(['Borough Population', 'Borough Latitude', 'Borough Longitude', 'Venue Latitude', 'Venue Longitude'], axis=1)\n",
    "# get population for each Borough\n",
    "df_pizza = pd.merge(df_pizza, df, on='Borough')\n",
    "df_pizza.drop(['Latitude', 'Longitude'], axis=1, inplace=True)\n",
    "# show the dataframe\n",
    "df_pizza.head()"
   ]
  },
  {
   "cell_type": "markdown",
   "metadata": {},
   "source": [
    "## Analyze each Borough"
   ]
  },
  {
   "cell_type": "markdown",
   "metadata": {},
   "source": [
    "Now we will make a new indicator for how good or bad each location\n",
    "this indicator will name:\n",
    "### Population/res"
   ]
  },
  {
   "cell_type": "code",
   "execution_count": null,
   "metadata": {},
   "outputs": [],
   "source": [
    "# dfine new column for population per res\n",
    "df_pizza['Pop/res'] = df_pizza['Population'] / df_pizza['Venue']\n",
    "# remove decimels from number\n",
    "df_pizza['Pop/res'] = df_pizza['Pop/res'].astype(int)\n",
    "df_pizza.head()"
   ]
  },
  {
   "cell_type": "markdown",
   "metadata": {},
   "source": [
    "## Pop/res indicator"
   ]
  },
  {
   "cell_type": "markdown",
   "metadata": {},
   "source": [
    "This indicator basicly show how many people in average go to each restauran in the Borough\n",
    "### High Pop/res: indicates that this borough has low number of restaurants for the population in borough\n",
    "### Low Pop/res: indicates that this borough has high number of restaurants for the population in borough\n",
    "\n",
    "### so, The high the Pop/res the more this borough is good market for starting a new pizza restaurant"
   ]
  },
  {
   "cell_type": "markdown",
   "metadata": {},
   "source": [
    "## Visualizing"
   ]
  },
  {
   "cell_type": "code",
   "execution_count": null,
   "metadata": {},
   "outputs": [],
   "source": [
    "# make a bar plot to visualize each pop/res for each bourough\n",
    "df_pizza.plot(kind='bar', x='Borough', y='Pop/res', figsize=(18,14), fontsize=20, color='red', width=.7)\n",
    "plt.show()\n",
    "plt.savefig('Population per res.jpeg')"
   ]
  },
  {
   "cell_type": "markdown",
   "metadata": {},
   "source": [
    "The above chart indicates that 'Barnet' has the best market to start new pizza restaurant as it have little number of restaurants to the population"
   ]
  },
  {
   "cell_type": "markdown",
   "metadata": {},
   "source": [
    "## So the answer of our question is that 'Bernet' is the best place in new york to start pizza res"
   ]
  },
  {
   "cell_type": "markdown",
   "metadata": {},
   "source": [
    "# Now let's try to answer another question \n",
    "## What is the best places if we wanted open branches in the future\n"
   ]
  },
  {
   "cell_type": "markdown",
   "metadata": {},
   "source": [
    "## We will use k-means clustering to answer this question"
   ]
  },
  {
   "cell_type": "markdown",
   "metadata": {},
   "source": [
    "## Pre-processing"
   ]
  },
  {
   "cell_type": "markdown",
   "metadata": {},
   "source": [
    "Make dataframe for saving boroughs names to delete it from df_pizza"
   ]
  },
  {
   "cell_type": "code",
   "execution_count": null,
   "metadata": {},
   "outputs": [],
   "source": [
    "# new df contains population and Borough names\n",
    "df_population = df_pizza[['Borough', 'Population']]\n",
    "df_population.head()"
   ]
  },
  {
   "cell_type": "markdown",
   "metadata": {},
   "source": [
    "As you can see borough column is not very good data to be applicaple for k-means clustering so let's drop it"
   ]
  },
  {
   "cell_type": "code",
   "execution_count": null,
   "metadata": {},
   "outputs": [],
   "source": [
    "df_pizza.drop(['Borough'], axis=1, inplace=True)\n",
    "df_pizza.head()"
   ]
  },
  {
   "cell_type": "markdown",
   "metadata": {},
   "source": [
    "## Modeling"
   ]
  },
  {
   "cell_type": "markdown",
   "metadata": {},
   "source": [
    "Let's run our model and group our boroughs into two clusters."
   ]
  },
  {
   "cell_type": "code",
   "execution_count": null,
   "metadata": {},
   "outputs": [],
   "source": [
    "# number of clusters \n",
    "num_clusters = 2\n",
    "\n",
    "# train the model 12 times and print labels list \n",
    "k_means = KMeans(init=\"k-means++\", n_clusters=num_clusters, n_init=12)\n",
    "k_means.fit(df_pizza)\n",
    "labels = k_means.labels_\n",
    "\n",
    "print(labels)"
   ]
  },
  {
   "cell_type": "markdown",
   "metadata": {},
   "source": [
    "## Insights"
   ]
  },
  {
   "cell_type": "markdown",
   "metadata": {},
   "source": [
    "Note that each row in our dataset represents a borough, and therefore, each row is assigned a label."
   ]
  },
  {
   "cell_type": "code",
   "execution_count": null,
   "metadata": {},
   "outputs": [],
   "source": [
    "df_pizza[\"Labels\"] = labels\n",
    "df_pizza.head(5)"
   ]
  },
  {
   "cell_type": "markdown",
   "metadata": {},
   "source": [
    "Check the centroid values by averaging the features in each cluster"
   ]
  },
  {
   "cell_type": "code",
   "execution_count": null,
   "metadata": {
    "scrolled": true
   },
   "outputs": [],
   "source": [
    "df_pizza.groupby('Labels').mean()"
   ]
  },
  {
   "cell_type": "markdown",
   "metadata": {},
   "source": [
    "Now we can define each group into some conclusion\n",
    "### 0: Low pop/res and a lot of restaurants so it has very high competaion so it is not recommanded\n",
    "### 1: Low pop/res and low number of restaurants so it has low competaion so it is recommanded for future branches "
   ]
  },
  {
   "cell_type": "markdown",
   "metadata": {},
   "source": [
    "## Knowing the name of each labeled borough"
   ]
  },
  {
   "cell_type": "code",
   "execution_count": null,
   "metadata": {},
   "outputs": [],
   "source": [
    "df_pizza = pd.merge(df_pizza, df_population, on='Population')\n",
    "df_pizza.head()"
   ]
  },
  {
   "cell_type": "code",
   "execution_count": null,
   "metadata": {},
   "outputs": [],
   "source": [
    "#get boroughs where label == 1\n",
    "df_recommended = df_pizza[(df_pizza['Labels'] == 1)]\n",
    "df_recommended"
   ]
  },
  {
   "cell_type": "markdown",
   "metadata": {},
   "source": [
    "### So the answer of 2nd question is : 'Barnet', 'Ealing', and 'Hillingdon' is the best for starting new branches"
   ]
  },
  {
   "cell_type": "markdown",
   "metadata": {},
   "source": [
    "# Visualiz the place of branches"
   ]
  },
  {
   "cell_type": "markdown",
   "metadata": {},
   "source": [
    "## Coordinates for each borough"
   ]
  },
  {
   "cell_type": "code",
   "execution_count": null,
   "metadata": {},
   "outputs": [],
   "source": [
    "df_recommended =  pd.merge(df_recommended, df, on='Population')\n",
    "df_recommended.drop('Borough_y', inplace=True, axis=1)\n",
    "df_recommended\n"
   ]
  },
  {
   "cell_type": "markdown",
   "metadata": {},
   "source": [
    "### Map for branches"
   ]
  },
  {
   "cell_type": "code",
   "execution_count": null,
   "metadata": {
    "scrolled": true
   },
   "outputs": [],
   "source": [
    "# create map object \n",
    "branches_map = folium.Map(location =[latitude, longitude], zoom_start=9)\n",
    "\n",
    "# add markers to places\n",
    "for lat, lng , borough, pop in zip(df_recommended['Latitude'], df_recommended['Longitude'], df_recommended['Borough_x'], df_recommended['Pop/res']):\n",
    "    label = 'The branch of {} has Population/restauren of: {}'.format(borough, pop)\n",
    "    label = folium.Popup(label, parse_html=True)\n",
    "    folium.CircleMarker(\n",
    "        [lat, lng],\n",
    "        radius=5,\n",
    "        popup=label,\n",
    "        color='blue',\n",
    "        fill=True,\n",
    "        fill_color='#3186cc',\n",
    "        fill_opacity=0.7,\n",
    "        parse_html=False).add_to(branches_map)\n",
    "\n",
    "branches_map"
   ]
  },
  {
   "cell_type": "code",
   "execution_count": null,
   "metadata": {},
   "outputs": [],
   "source": []
  }
 ],
 "metadata": {
  "kernelspec": {
   "display_name": "Python 3",
   "language": "python",
   "name": "python3"
  },
  "language_info": {
   "codemirror_mode": {
    "name": "ipython",
    "version": 3
   },
   "file_extension": ".py",
   "mimetype": "text/x-python",
   "name": "python",
   "nbconvert_exporter": "python",
   "pygments_lexer": "ipython3",
   "version": "3.8.2"
  }
 },
 "nbformat": 4,
 "nbformat_minor": 4
}
